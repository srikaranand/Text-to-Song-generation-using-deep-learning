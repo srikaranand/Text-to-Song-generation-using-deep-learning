{
 "cells": [
  {
   "cell_type": "code",
   "execution_count": 1,
   "metadata": {},
   "outputs": [],
   "source": [
    "import numpy as np\n",
    "import pandas as pd\n",
    "import tensorflow as tf\n",
    "from tensorflow.python.keras.preprocessing import text, sequence\n",
    "from tensorflow.python.keras.models import Sequential\n",
    "from tensorflow.python.keras.layers import Embedding, Conv1D, GlobalMaxPooling1D, Activation, Dropout, Dense\n",
    "from sklearn.model_selection import train_test_split\n",
    "from tensorflow.python.keras.models import load_model"
   ]
  },
  {
   "cell_type": "code",
   "execution_count": 2,
   "metadata": {},
   "outputs": [
    {
     "data": {
      "text/html": [
       "<div>\n",
       "<style scoped>\n",
       "    .dataframe tbody tr th:only-of-type {\n",
       "        vertical-align: middle;\n",
       "    }\n",
       "\n",
       "    .dataframe tbody tr th {\n",
       "        vertical-align: top;\n",
       "    }\n",
       "\n",
       "    .dataframe thead th {\n",
       "        text-align: right;\n",
       "    }\n",
       "</style>\n",
       "<table border=\"1\" class=\"dataframe\">\n",
       "  <thead>\n",
       "    <tr style=\"text-align: right;\">\n",
       "      <th></th>\n",
       "      <th>tweet_id</th>\n",
       "      <th>sentiment</th>\n",
       "      <th>author</th>\n",
       "      <th>content</th>\n",
       "    </tr>\n",
       "  </thead>\n",
       "  <tbody>\n",
       "    <tr>\n",
       "      <th>0</th>\n",
       "      <td>1956967341</td>\n",
       "      <td>BoredomEmptyNeutral</td>\n",
       "      <td>xoshayzers</td>\n",
       "      <td>@tiffanylue i know  i was listenin to bad habi...</td>\n",
       "    </tr>\n",
       "    <tr>\n",
       "      <th>1</th>\n",
       "      <td>1956967666</td>\n",
       "      <td>SadnessWorry</td>\n",
       "      <td>wannamama</td>\n",
       "      <td>Layin n bed with a headache  ughhhh...waitin o...</td>\n",
       "    </tr>\n",
       "    <tr>\n",
       "      <th>2</th>\n",
       "      <td>1956967696</td>\n",
       "      <td>SadnessWorry</td>\n",
       "      <td>coolfunky</td>\n",
       "      <td>Funeral ceremony...gloomy friday...</td>\n",
       "    </tr>\n",
       "    <tr>\n",
       "      <th>3</th>\n",
       "      <td>1956967789</td>\n",
       "      <td>EnthuFunSurpriseHappy</td>\n",
       "      <td>czareaquino</td>\n",
       "      <td>wants to hang out with friends SOON!</td>\n",
       "    </tr>\n",
       "    <tr>\n",
       "      <th>4</th>\n",
       "      <td>1956968416</td>\n",
       "      <td>BoredomEmptyNeutral</td>\n",
       "      <td>xkilljoyx</td>\n",
       "      <td>@dannycastillo We want to trade with someone w...</td>\n",
       "    </tr>\n",
       "  </tbody>\n",
       "</table>\n",
       "</div>"
      ],
      "text/plain": [
       "     tweet_id              sentiment       author  \\\n",
       "0  1956967341    BoredomEmptyNeutral   xoshayzers   \n",
       "1  1956967666           SadnessWorry    wannamama   \n",
       "2  1956967696           SadnessWorry    coolfunky   \n",
       "3  1956967789  EnthuFunSurpriseHappy  czareaquino   \n",
       "4  1956968416    BoredomEmptyNeutral    xkilljoyx   \n",
       "\n",
       "                                             content  \n",
       "0  @tiffanylue i know  i was listenin to bad habi...  \n",
       "1  Layin n bed with a headache  ughhhh...waitin o...  \n",
       "2                Funeral ceremony...gloomy friday...  \n",
       "3               wants to hang out with friends SOON!  \n",
       "4  @dannycastillo We want to trade with someone w...  "
      ]
     },
     "execution_count": 2,
     "metadata": {},
     "output_type": "execute_result"
    }
   ],
   "source": [
    "train_df = pd.read_csv('text_emotion.csv')\n",
    "train_df.head()"
   ]
  },
  {
   "cell_type": "code",
   "execution_count": 4,
   "metadata": {},
   "outputs": [
    {
     "data": {
      "text/html": [
       "<div>\n",
       "<style scoped>\n",
       "    .dataframe tbody tr th:only-of-type {\n",
       "        vertical-align: middle;\n",
       "    }\n",
       "\n",
       "    .dataframe tbody tr th {\n",
       "        vertical-align: top;\n",
       "    }\n",
       "\n",
       "    .dataframe thead th {\n",
       "        text-align: right;\n",
       "    }\n",
       "</style>\n",
       "<table border=\"1\" class=\"dataframe\">\n",
       "  <thead>\n",
       "    <tr style=\"text-align: right;\">\n",
       "      <th></th>\n",
       "      <th>tweet_id</th>\n",
       "      <th>sentiment</th>\n",
       "      <th>author</th>\n",
       "      <th>content</th>\n",
       "    </tr>\n",
       "  </thead>\n",
       "  <tbody>\n",
       "    <tr>\n",
       "      <th>39952</th>\n",
       "      <td>1753903881</td>\n",
       "      <td>EnthuFunSurpriseHappy</td>\n",
       "      <td>catiams</td>\n",
       "      <td>@sharlynnx ME TOO! please come online *-* hope...</td>\n",
       "    </tr>\n",
       "    <tr>\n",
       "      <th>39953</th>\n",
       "      <td>1753903904</td>\n",
       "      <td>BoredomEmptyNeutral</td>\n",
       "      <td>Damir</td>\n",
       "      <td>@balkanbeat No, a-ha is unfortunatelly from No...</td>\n",
       "    </tr>\n",
       "    <tr>\n",
       "      <th>39954</th>\n",
       "      <td>1753903927</td>\n",
       "      <td>EnthuFunSurpriseHappy</td>\n",
       "      <td>yandrasap</td>\n",
       "      <td>today was interesting...</td>\n",
       "    </tr>\n",
       "    <tr>\n",
       "      <th>39955</th>\n",
       "      <td>1753903951</td>\n",
       "      <td>BoredomEmptyNeutral</td>\n",
       "      <td>AprilLouiseeee</td>\n",
       "      <td>has just got out the shower</td>\n",
       "    </tr>\n",
       "    <tr>\n",
       "      <th>39956</th>\n",
       "      <td>1753903987</td>\n",
       "      <td>SadnessWorry</td>\n",
       "      <td>nadszy</td>\n",
       "      <td>How Do You Sleep - Jesse McCartney</td>\n",
       "    </tr>\n",
       "  </tbody>\n",
       "</table>\n",
       "</div>"
      ],
      "text/plain": [
       "         tweet_id              sentiment          author  \\\n",
       "39952  1753903881  EnthuFunSurpriseHappy         catiams   \n",
       "39953  1753903904    BoredomEmptyNeutral           Damir   \n",
       "39954  1753903927  EnthuFunSurpriseHappy       yandrasap   \n",
       "39955  1753903951    BoredomEmptyNeutral  AprilLouiseeee   \n",
       "39956  1753903987           SadnessWorry          nadszy   \n",
       "\n",
       "                                                 content  \n",
       "39952  @sharlynnx ME TOO! please come online *-* hope...  \n",
       "39953  @balkanbeat No, a-ha is unfortunatelly from No...  \n",
       "39954                           today was interesting...  \n",
       "39955                        has just got out the shower  \n",
       "39956                 How Do You Sleep - Jesse McCartney  "
      ]
     },
     "execution_count": 4,
     "metadata": {},
     "output_type": "execute_result"
    }
   ],
   "source": [
    "train_df.tail()"
   ]
  },
  {
   "cell_type": "code",
   "execution_count": 5,
   "metadata": {},
   "outputs": [
    {
     "name": "stdout",
     "output_type": "stream",
     "text": [
      "39957\n",
      "<class 'pandas.core.frame.DataFrame'>\n",
      "2\n",
      "(39957, 4)\n",
      "tweet_id      int64\n",
      "sentiment    object\n",
      "author       object\n",
      "content      object\n",
      "dtype: object\n",
      "159828\n"
     ]
    }
   ],
   "source": [
    "print(len(train_df))\n",
    "print(type(train_df))\n",
    "print(train_df.ndim)\n",
    "print(train_df.shape)\n",
    "print(train_df.dtypes)\n",
    "print(train_df.size)"
   ]
  },
  {
   "cell_type": "code",
   "execution_count": 3,
   "metadata": {},
   "outputs": [],
   "source": [
    "train_df = train_df.drop(['tweet_id', 'author'], axis=1)"
   ]
  },
  {
   "cell_type": "code",
   "execution_count": 7,
   "metadata": {},
   "outputs": [
    {
     "data": {
      "text/html": [
       "<div>\n",
       "<style scoped>\n",
       "    .dataframe tbody tr th:only-of-type {\n",
       "        vertical-align: middle;\n",
       "    }\n",
       "\n",
       "    .dataframe tbody tr th {\n",
       "        vertical-align: top;\n",
       "    }\n",
       "\n",
       "    .dataframe thead th {\n",
       "        text-align: right;\n",
       "    }\n",
       "</style>\n",
       "<table border=\"1\" class=\"dataframe\">\n",
       "  <thead>\n",
       "    <tr style=\"text-align: right;\">\n",
       "      <th></th>\n",
       "      <th>sentiment</th>\n",
       "      <th>content</th>\n",
       "    </tr>\n",
       "  </thead>\n",
       "  <tbody>\n",
       "    <tr>\n",
       "      <th>0</th>\n",
       "      <td>BoredomEmptyNeutral</td>\n",
       "      <td>@tiffanylue i know  i was listenin to bad habi...</td>\n",
       "    </tr>\n",
       "    <tr>\n",
       "      <th>1</th>\n",
       "      <td>SadnessWorry</td>\n",
       "      <td>Layin n bed with a headache  ughhhh...waitin o...</td>\n",
       "    </tr>\n",
       "    <tr>\n",
       "      <th>2</th>\n",
       "      <td>SadnessWorry</td>\n",
       "      <td>Funeral ceremony...gloomy friday...</td>\n",
       "    </tr>\n",
       "    <tr>\n",
       "      <th>3</th>\n",
       "      <td>EnthuFunSurpriseHappy</td>\n",
       "      <td>wants to hang out with friends SOON!</td>\n",
       "    </tr>\n",
       "    <tr>\n",
       "      <th>4</th>\n",
       "      <td>BoredomEmptyNeutral</td>\n",
       "      <td>@dannycastillo We want to trade with someone w...</td>\n",
       "    </tr>\n",
       "  </tbody>\n",
       "</table>\n",
       "</div>"
      ],
      "text/plain": [
       "               sentiment                                            content\n",
       "0    BoredomEmptyNeutral  @tiffanylue i know  i was listenin to bad habi...\n",
       "1           SadnessWorry  Layin n bed with a headache  ughhhh...waitin o...\n",
       "2           SadnessWorry                Funeral ceremony...gloomy friday...\n",
       "3  EnthuFunSurpriseHappy               wants to hang out with friends SOON!\n",
       "4    BoredomEmptyNeutral  @dannycastillo We want to trade with someone w..."
      ]
     },
     "execution_count": 7,
     "metadata": {},
     "output_type": "execute_result"
    }
   ],
   "source": [
    "train_df.head()"
   ]
  },
  {
   "cell_type": "code",
   "execution_count": 8,
   "metadata": {},
   "outputs": [
    {
     "data": {
      "text/plain": [
       "(39957, 2)"
      ]
     },
     "execution_count": 8,
     "metadata": {},
     "output_type": "execute_result"
    }
   ],
   "source": [
    "train_df.shape"
   ]
  },
  {
   "cell_type": "code",
   "execution_count": 4,
   "metadata": {},
   "outputs": [
    {
     "data": {
      "text/plain": [
       "SadnessWorry             13622\n",
       "EnthuFunSurpriseHappy     9909\n",
       "BoredomEmptyNeutral       9634\n",
       "ReliefLove                5359\n",
       "AngerFearHate             1433\n",
       "Name: sentiment, dtype: int64"
      ]
     },
     "execution_count": 4,
     "metadata": {},
     "output_type": "execute_result"
    }
   ],
   "source": [
    "train_df['sentiment'].value_counts()"
   ]
  },
  {
   "cell_type": "code",
   "execution_count": 5,
   "metadata": {},
   "outputs": [
    {
     "data": {
      "text/plain": [
       "<matplotlib.axes._subplots.AxesSubplot at 0x1bd7daf3160>"
      ]
     },
     "execution_count": 5,
     "metadata": {},
     "output_type": "execute_result"
    }
   ],
   "source": [
    "train_df['sentiment'].value_counts().plot.bar()"
   ]
  },
  {
   "cell_type": "code",
   "execution_count": 6,
   "metadata": {},
   "outputs": [
    {
     "data": {
      "text/plain": [
       "SadnessWorry             0.340916\n",
       "EnthuFunSurpriseHappy    0.247992\n",
       "BoredomEmptyNeutral      0.241109\n",
       "ReliefLove               0.134119\n",
       "AngerFearHate            0.035864\n",
       "Name: sentiment, dtype: float64"
      ]
     },
     "execution_count": 6,
     "metadata": {},
     "output_type": "execute_result"
    }
   ],
   "source": [
    "train_df['sentiment'].value_counts() / len(train_df)"
   ]
  },
  {
   "cell_type": "code",
   "execution_count": 12,
   "metadata": {},
   "outputs": [
    {
     "data": {
      "text/plain": [
       "<matplotlib.axes._subplots.AxesSubplot at 0x22f0ba34b38>"
      ]
     },
     "execution_count": 12,
     "metadata": {},
     "output_type": "execute_result"
    },
    {
     "data": {
      "image/png": "[encoded data removed]",
      "text/plain": [
       "<Figure size 432x288 with 1 Axes>"
      ]
     },
     "metadata": {
      "needs_background": "light"
     },
     "output_type": "display_data"
    }
   ],
   "source": [
    "(train_df['sentiment'].value_counts() / len(train_df)).plot.bar()"
   ]
  },
  {
   "cell_type": "code",
   "execution_count": 13,
   "metadata": {},
   "outputs": [
    {
     "name": "stdout",
     "output_type": "stream",
     "text": [
      "SadnessWorry             13622\n",
      "EnthuFunSurpriseHappy     9909\n",
      "BoredomEmptyNeutral       9634\n",
      "ReliefLove                5359\n",
      "AngerFearHate             1433\n",
      "Name: sentiment, dtype: int64\n"
     ]
    },
    {
     "data": {
      "text/plain": [
       "<matplotlib.axes._subplots.AxesSubplot at 0x22f0bab28d0>"
      ]
     },
     "execution_count": 13,
     "metadata": {},
     "output_type": "execute_result"
    },
    {
     "data": {
      "image/png": "[encoded data removed]",
      "text/plain": [
       "<Figure size 432x288 with 1 Axes>"
      ]
     },
     "metadata": {
      "needs_background": "light"
     },
     "output_type": "display_data"
    }
   ],
   "source": [
    "# train_df = pd.concat(train_df)\n",
    "print(train_df['sentiment'].value_counts())\n",
    "train_df['sentiment'].value_counts().plot.bar()"
   ]
  },
  {
   "cell_type": "code",
   "execution_count": 14,
   "metadata": {},
   "outputs": [
    {
     "data": {
      "text/html": [
       "<div>\n",
       "<style scoped>\n",
       "    .dataframe tbody tr th:only-of-type {\n",
       "        vertical-align: middle;\n",
       "    }\n",
       "\n",
       "    .dataframe tbody tr th {\n",
       "        vertical-align: top;\n",
       "    }\n",
       "\n",
       "    .dataframe thead th {\n",
       "        text-align: right;\n",
       "    }\n",
       "</style>\n",
       "<table border=\"1\" class=\"dataframe\">\n",
       "  <thead>\n",
       "    <tr style=\"text-align: right;\">\n",
       "      <th></th>\n",
       "      <th>sentiment</th>\n",
       "      <th>content</th>\n",
       "    </tr>\n",
       "  </thead>\n",
       "  <tbody>\n",
       "    <tr>\n",
       "      <th>0</th>\n",
       "      <td>BoredomEmptyNeutral</td>\n",
       "      <td>@tiffanylue i know  i was listenin to bad habi...</td>\n",
       "    </tr>\n",
       "    <tr>\n",
       "      <th>1</th>\n",
       "      <td>SadnessWorry</td>\n",
       "      <td>Layin n bed with a headache  ughhhh...waitin o...</td>\n",
       "    </tr>\n",
       "    <tr>\n",
       "      <th>2</th>\n",
       "      <td>SadnessWorry</td>\n",
       "      <td>Funeral ceremony...gloomy friday...</td>\n",
       "    </tr>\n",
       "    <tr>\n",
       "      <th>3</th>\n",
       "      <td>EnthuFunSurpriseHappy</td>\n",
       "      <td>wants to hang out with friends SOON!</td>\n",
       "    </tr>\n",
       "    <tr>\n",
       "      <th>4</th>\n",
       "      <td>BoredomEmptyNeutral</td>\n",
       "      <td>@dannycastillo We want to trade with someone w...</td>\n",
       "    </tr>\n",
       "  </tbody>\n",
       "</table>\n",
       "</div>"
      ],
      "text/plain": [
       "               sentiment                                            content\n",
       "0    BoredomEmptyNeutral  @tiffanylue i know  i was listenin to bad habi...\n",
       "1           SadnessWorry  Layin n bed with a headache  ughhhh...waitin o...\n",
       "2           SadnessWorry                Funeral ceremony...gloomy friday...\n",
       "3  EnthuFunSurpriseHappy               wants to hang out with friends SOON!\n",
       "4    BoredomEmptyNeutral  @dannycastillo We want to trade with someone w..."
      ]
     },
     "execution_count": 14,
     "metadata": {},
     "output_type": "execute_result"
    }
   ],
   "source": [
    "train_df.head()"
   ]
  },
  {
   "cell_type": "code",
   "execution_count": 15,
   "metadata": {},
   "outputs": [
    {
     "data": {
      "text/plain": [
       "(array([], dtype=int64), array([], dtype=int64))"
      ]
     },
     "execution_count": 15,
     "metadata": {},
     "output_type": "execute_result"
    }
   ],
   "source": [
    "np.where(pd.isnull(train_df))"
   ]
  },
  {
   "cell_type": "code",
   "execution_count": 7,
   "metadata": {},
   "outputs": [
    {
     "name": "stdout",
     "output_type": "stream",
     "text": [
      "               sentiment                                            content\n",
      "0    BoredomEmptyNeutral  @tiffanylue i know  i was listenin to bad habi...\n",
      "1           SadnessWorry  Layin n bed with a headache  ughhhh...waitin o...\n",
      "2           SadnessWorry                Funeral ceremony...gloomy friday...\n",
      "3  EnthuFunSurpriseHappy               wants to hang out with friends SOON!\n",
      "4    BoredomEmptyNeutral  @dannycastillo We want to trade with someone w...\n",
      "39957\n"
     ]
    },
    {
     "data": {
      "text/html": [
       "<div>\n",
       "<style scoped>\n",
       "    .dataframe tbody tr th:only-of-type {\n",
       "        vertical-align: middle;\n",
       "    }\n",
       "\n",
       "    .dataframe tbody tr th {\n",
       "        vertical-align: top;\n",
       "    }\n",
       "\n",
       "    .dataframe thead th {\n",
       "        text-align: right;\n",
       "    }\n",
       "</style>\n",
       "<table border=\"1\" class=\"dataframe\">\n",
       "  <thead>\n",
       "    <tr style=\"text-align: right;\">\n",
       "      <th></th>\n",
       "      <th>sentiment</th>\n",
       "      <th>content</th>\n",
       "    </tr>\n",
       "  </thead>\n",
       "  <tbody>\n",
       "    <tr>\n",
       "      <th>0</th>\n",
       "      <td>EnthuFunSurpriseHappy</td>\n",
       "      <td>@dwsomers samee well i aint a man i am a girl ...</td>\n",
       "    </tr>\n",
       "    <tr>\n",
       "      <th>1</th>\n",
       "      <td>BoredomEmptyNeutral</td>\n",
       "      <td>@gracetanglefoot what? You won't be two blocks...</td>\n",
       "    </tr>\n",
       "    <tr>\n",
       "      <th>2</th>\n",
       "      <td>EnthuFunSurpriseHappy</td>\n",
       "      <td>All the bike chat, makes me think we should si...</td>\n",
       "    </tr>\n",
       "    <tr>\n",
       "      <th>3</th>\n",
       "      <td>BoredomEmptyNeutral</td>\n",
       "      <td>has no people skills.</td>\n",
       "    </tr>\n",
       "    <tr>\n",
       "      <th>4</th>\n",
       "      <td>BoredomEmptyNeutral</td>\n",
       "      <td>walked home in the rain.</td>\n",
       "    </tr>\n",
       "  </tbody>\n",
       "</table>\n",
       "</div>"
      ],
      "text/plain": [
       "               sentiment                                            content\n",
       "0  EnthuFunSurpriseHappy  @dwsomers samee well i aint a man i am a girl ...\n",
       "1    BoredomEmptyNeutral  @gracetanglefoot what? You won't be two blocks...\n",
       "2  EnthuFunSurpriseHappy  All the bike chat, makes me think we should si...\n",
       "3    BoredomEmptyNeutral                              has no people skills.\n",
       "4    BoredomEmptyNeutral                           walked home in the rain."
      ]
     },
     "execution_count": 7,
     "metadata": {},
     "output_type": "execute_result"
    }
   ],
   "source": [
    "print(train_df.head())\n",
    "train_df = train_df.sample(frac=1).reset_index(drop=True)\n",
    "print(len(train_df))\n",
    "train_df.head()"
   ]
  },
  {
   "cell_type": "code",
   "execution_count": 9,
   "metadata": {},
   "outputs": [
    {
     "name": "stdout",
     "output_type": "stream",
     "text": [
      "<class 'pandas.core.frame.DataFrame'>\n",
      "(39957, 5)\n",
      "2\n"
     ]
    },
    {
     "data": {
      "text/html": [
       "<div>\n",
       "<style scoped>\n",
       "    .dataframe tbody tr th:only-of-type {\n",
       "        vertical-align: middle;\n",
       "    }\n",
       "\n",
       "    .dataframe tbody tr th {\n",
       "        vertical-align: top;\n",
       "    }\n",
       "\n",
       "    .dataframe thead th {\n",
       "        text-align: right;\n",
       "    }\n",
       "</style>\n",
       "<table border=\"1\" class=\"dataframe\">\n",
       "  <thead>\n",
       "    <tr style=\"text-align: right;\">\n",
       "      <th></th>\n",
       "      <th>AngerFearHate</th>\n",
       "      <th>BoredomEmptyNeutral</th>\n",
       "      <th>EnthuFunSurpriseHappy</th>\n",
       "      <th>ReliefLove</th>\n",
       "      <th>SadnessWorry</th>\n",
       "    </tr>\n",
       "  </thead>\n",
       "  <tbody>\n",
       "    <tr>\n",
       "      <th>0</th>\n",
       "      <td>0</td>\n",
       "      <td>0</td>\n",
       "      <td>1</td>\n",
       "      <td>0</td>\n",
       "      <td>0</td>\n",
       "    </tr>\n",
       "    <tr>\n",
       "      <th>1</th>\n",
       "      <td>0</td>\n",
       "      <td>1</td>\n",
       "      <td>0</td>\n",
       "      <td>0</td>\n",
       "      <td>0</td>\n",
       "    </tr>\n",
       "    <tr>\n",
       "      <th>2</th>\n",
       "      <td>0</td>\n",
       "      <td>0</td>\n",
       "      <td>1</td>\n",
       "      <td>0</td>\n",
       "      <td>0</td>\n",
       "    </tr>\n",
       "    <tr>\n",
       "      <th>3</th>\n",
       "      <td>0</td>\n",
       "      <td>1</td>\n",
       "      <td>0</td>\n",
       "      <td>0</td>\n",
       "      <td>0</td>\n",
       "    </tr>\n",
       "    <tr>\n",
       "      <th>4</th>\n",
       "      <td>0</td>\n",
       "      <td>1</td>\n",
       "      <td>0</td>\n",
       "      <td>0</td>\n",
       "      <td>0</td>\n",
       "    </tr>\n",
       "  </tbody>\n",
       "</table>\n",
       "</div>"
      ],
      "text/plain": [
       "   AngerFearHate  BoredomEmptyNeutral  EnthuFunSurpriseHappy  ReliefLove  \\\n",
       "0              0                    0                      1           0   \n",
       "1              0                    1                      0           0   \n",
       "2              0                    0                      1           0   \n",
       "3              0                    1                      0           0   \n",
       "4              0                    1                      0           0   \n",
       "\n",
       "   SadnessWorry  \n",
       "0             0  \n",
       "1             0  \n",
       "2             0  \n",
       "3             0  \n",
       "4             0  "
      ]
     },
     "execution_count": 9,
     "metadata": {},
     "output_type": "execute_result"
    }
   ],
   "source": [
    "y_pandas_df = pd.get_dummies(train_df['sentiment'])\n",
    "print(type(y_pandas_df))\n",
    "print(y_pandas_df.shape)\n",
    "print(y_pandas_df.ndim)\n",
    "y_pandas_df.head()"
   ]
  },
  {
   "cell_type": "code",
   "execution_count": 11,
   "metadata": {},
   "outputs": [
    {
     "name": "stdout",
     "output_type": "stream",
     "text": [
      "properties of y\n",
      "type : <class 'numpy.ndarray'>, dimensions : 2, shape : (39957, 5), total no. of elements : 199785, data type of each element: uint8, size of each element 1 bytes\n"
     ]
    }
   ],
   "source": [
    "y = y_pandas_df.values\n",
    "print(\"properties of y\")\n",
    "print(\"type : {}, dimensions : {}, shape : {}, total no. of elements : {}, data type of each element: {}, size of each element {} bytes\".format(type(y), y.ndim, y.shape, y.size, y.dtype, y.itemsize))"
   ]
  },
  {
   "cell_type": "code",
   "execution_count": 19,
   "metadata": {},
   "outputs": [
    {
     "data": {
      "text/plain": [
       "(39957, 2)"
      ]
     },
     "execution_count": 19,
     "metadata": {},
     "output_type": "execute_result"
    }
   ],
   "source": [
    "train_df.shape"
   ]
  },
  {
   "cell_type": "code",
   "execution_count": 12,
   "metadata": {},
   "outputs": [],
   "source": [
    "train_df = train_df.drop(['sentiment'], axis=1)"
   ]
  },
  {
   "cell_type": "code",
   "execution_count": 13,
   "metadata": {},
   "outputs": [],
   "source": [
    "train_df.shape\n",
    "x = train_df.values.flatten()"
   ]
  },
  {
   "cell_type": "code",
   "execution_count": 22,
   "metadata": {},
   "outputs": [
    {
     "name": "stdout",
     "output_type": "stream",
     "text": [
      "[\"trying to straighten my hair, but it's too effing hot in here. also, i need food\"\n",
      " 'Watching Die Hard 2. I &lt;333 Jeremy Irons'\n",
      " 'Heading home after a long week. Wish someone onther than marketers would follow me'\n",
      " ... '@Mennard You are very sweet, my everyday hero friend'\n",
      " \"@willameda I really really hope that doesn't happen.\"\n",
      " 'I gots the sniffles']\n",
      "properties of x\n",
      "type : <class 'numpy.ndarray'>, dimensions : 1, shape : (39957,), total no. of elements : 39957, data type of each element: object, size of each element 8 bytes\n"
     ]
    }
   ],
   "source": [
    "print(x)\n",
    "print(\"properties of x\")\n",
    "print(\"type : {}, dimensions : {}, shape : {}, total no. of elements : {}, data type of each element: {}, size of each element {} bytes\".format(type(x), x.ndim, x.shape, x.size, x.dtype, x.itemsize))"
   ]
  },
  {
   "cell_type": "code",
   "execution_count": 14,
   "metadata": {},
   "outputs": [],
   "source": [
    "list_of_classes = ['disgust', 'neutral', 'ecstacy', 'love', 'sad' ]\n",
    "max_features = 20000\n",
    "max_text_length = 400\n",
    "embedding_dims = 50\n",
    "batch_size = 30\n",
    "epochs = 3\n",
    "num_filters_1 = 250\n",
    "num_filters_2 = 250\n",
    "filter_size = 3"
   ]
  },
  {
   "cell_type": "code",
   "execution_count": 15,
   "metadata": {},
   "outputs": [],
   "source": [
    "x_tokenizer = text.Tokenizer(num_words=max_features)\n",
    "x_tokenizer.fit_on_texts(list(x))\n",
    "x_tokenized = x_tokenizer.texts_to_sequences(x)\n",
    "x_train_val = sequence.pad_sequences(x_tokenized, maxlen=max_text_length)"
   ]
  },
  {
   "cell_type": "code",
   "execution_count": 25,
   "metadata": {},
   "outputs": [
    {
     "data": {
      "text/plain": [
       "\"\\nmodel = Sequential()\\n\\nmodel.add(Embedding(max_features, embedding_dims, input_length=max_text_length))\\nmodel.add(Dropout(0.2))\\n\\nmodel.add(Conv1D(filters=num_filters_1, kernel_size=filter_size, padding='valid', activation='relu', strides=1))\\nmodel.add(GlobalMaxPooling1D())\\n\\nmodel.add(Dense(num_filters_2))\\nmodel.add(Dropout(0.2))\\nmodel.add(Activation('relu'))\\n\\nmodel.add(Dense(5))\\nmodel.add(Activation('sigmoid'))\\n\""
      ]
     },
     "execution_count": 25,
     "metadata": {},
     "output_type": "execute_result"
    }
   ],
   "source": [
    "'''\n",
    "model = Sequential()\n",
    "\n",
    "model.add(Embedding(max_features, embedding_dims, input_length=max_text_length))\n",
    "model.add(Dropout(0.2))\n",
    "\n",
    "model.add(Conv1D(filters=num_filters_1, kernel_size=filter_size, padding='valid', activation='relu', strides=1))\n",
    "model.add(GlobalMaxPooling1D())\n",
    "\n",
    "model.add(Dense(num_filters_2))\n",
    "model.add(Dropout(0.2))\n",
    "model.add(Activation('relu'))\n",
    "\n",
    "model.add(Dense(5))\n",
    "model.add(Activation('sigmoid'))\n",
    "'''"
   ]
  },
  {
   "cell_type": "code",
   "execution_count": 26,
   "metadata": {},
   "outputs": [],
   "source": [
    "model.compile(optimizer='adam', loss='binary_crossentropy', metrics=['accuracy'])\n",
    "model.summary()"
   ]
  },
  {
   "cell_type": "code",
   "execution_count": 27,
   "metadata": {},
   "outputs": [],
   "source": [
    "model.fit(x_train_val, y, batch_size=batch_size, epochs=10)"
   ]
  },
  {
   "cell_type": "code",
   "execution_count": 28,
   "metadata": {},
   "outputs": [],
   "source": [
    "model.save('text_emotion_model.h5')"
   ]
  },
  {
   "cell_type": "code",
   "execution_count": 23,
   "metadata": {},
   "outputs": [
    {
     "name": "stdout",
     "output_type": "stream",
     "text": [
      "My heart is beating, keeps on repeating I am waiting for you) - 2 My love encloses, a plot of roses, And when shall be then, our next meeting, 'Cos love (extended) you know, That time is fleeting,\n",
      "1/1 [==============================] - 0s 96ms/sample\n",
      "[[0.00429952 0.03662789 0.52241176 0.15305868 0.3597899 ]]\n",
      "[0.004299521446228027, 0.036627888679504395, 0.5224117636680603, 0.15305867791175842, 0.3597899079322815]    0.5224117636680603  mood : ecstacy\n"
     ]
    }
   ],
   "source": [
    "lists = [input()]\n",
    "model2 = load_model('text_emotion_model.h5')\n",
    "x_test = np.array(lists)\n",
    "x_test_tokenized = x_tokenizer.texts_to_sequences(x_test)\n",
    "x_testing = sequence.pad_sequences(x_test_tokenized, maxlen=max_text_length)\n",
    "y_testing = model2.predict(x_testing, verbose = 1)\n",
    "y_testing = y_testing\n",
    "print(y_testing)\n",
    "list1 = y_testing[0]\n",
    "ind = 0\n",
    "list1 = list1.tolist()\n",
    "maxy = max(list1)\n",
    "ind = list1.index(maxy)\n",
    "emotion = list_of_classes[ind]\n",
    "print(list1,\"  \",maxy,\" mood :\",emotion)\n",
    "lyricsFile = open(\"lyrics.txt\",\"w+\")\n",
    "lyricsFile.write(lists[0])\n",
    "lyricsFile.close()\n",
    "\n",
    "\n",
    "if emotion==\"neutral\" or emotion==\"love\":\n",
    "    emotion=\"sad\"\n",
    "elif emotion==\"disgust\":\n",
    "    emotion=\"ecstacy\"\n",
    "\n",
    "emotionFile = open(\"emotionFile.txt\",\"w+\")\n",
    "emotionFile.write(emotion)\n",
    "emotionFile.close()"
   ]
  },
  {
   "cell_type": "code",
   "execution_count": null,
   "metadata": {},
   "outputs": [],
   "source": []
  }
 ],
 "metadata": {
  "kernelspec": {
   "display_name": "Python 3",
   "language": "python",
   "name": "python3"
  },
  "language_info": {
   "codemirror_mode": {
    "name": "ipython",
    "version": 3
   },
   "file_extension": ".py",
   "mimetype": "text/x-python",
   "name": "python",
   "nbconvert_exporter": "python",
   "pygments_lexer": "ipython3",
   "version": "3.7.3"
  }
 },
 "nbformat": 4,
 "nbformat_minor": 2
}
